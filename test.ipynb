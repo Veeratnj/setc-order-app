{
 "cells": [
  {
   "cell_type": "code",
   "execution_count": 1,
   "id": "0f1dbb0e",
   "metadata": {},
   "outputs": [],
   "source": [
    "import collections\n",
    "import json\n",
    "from services import get_auth,get_historical_data\n",
    "from  creds import SmartAPIUserCredentialsClass\n",
    "from itertools import combinations"
   ]
  },
  {
   "cell_type": "code",
   "execution_count": 2,
   "id": "75b544d9",
   "metadata": {},
   "outputs": [
    {
     "name": "stderr",
     "output_type": "stream",
     "text": [
      "[I 250618 21:47:36 smartConnect:124] in pool\n"
     ]
    }
   ],
   "source": [
    "raja_=SmartAPIUserCredentialsClass(str(5))"
   ]
  },
  {
   "cell_type": "code",
   "execution_count": 3,
   "id": "7d727afa",
   "metadata": {},
   "outputs": [
    {
     "data": {
      "text/plain": [
       "['Authorization',\n",
       " '__class__',\n",
       " '__delattr__',\n",
       " '__dict__',\n",
       " '__dir__',\n",
       " '__doc__',\n",
       " '__eq__',\n",
       " '__format__',\n",
       " '__ge__',\n",
       " '__getattribute__',\n",
       " '__gt__',\n",
       " '__hash__',\n",
       " '__init__',\n",
       " '__init_subclass__',\n",
       " '__le__',\n",
       " '__lt__',\n",
       " '__module__',\n",
       " '__ne__',\n",
       " '__new__',\n",
       " '__reduce__',\n",
       " '__reduce_ex__',\n",
       " '__repr__',\n",
       " '__setattr__',\n",
       " '__sizeof__',\n",
       " '__str__',\n",
       " '__subclasshook__',\n",
       " '__weakref__',\n",
       " '_default_timeout',\n",
       " '_deleteRequest',\n",
       " '_getRequest',\n",
       " '_login_url',\n",
       " '_postRequest',\n",
       " '_putRequest',\n",
       " '_request',\n",
       " '_rootUrl',\n",
       " '_routes',\n",
       " '_user_agent',\n",
       " 'accept',\n",
       " 'access_token',\n",
       " 'allholding',\n",
       " 'api_key',\n",
       " 'bseIntraday',\n",
       " 'cancelOrder',\n",
       " 'clientLocalIP',\n",
       " 'clientLocalIp',\n",
       " 'clientMacAddress',\n",
       " 'clientPublicIP',\n",
       " 'clientPublicIp',\n",
       " 'convertPosition',\n",
       " 'debug',\n",
       " 'disable_ssl',\n",
       " 'estimateCharges',\n",
       " 'feed_token',\n",
       " 'gainersLosers',\n",
       " 'generateSession',\n",
       " 'generateTPIN',\n",
       " 'generateToken',\n",
       " 'getCandleData',\n",
       " 'getMarginApi',\n",
       " 'getMarketData',\n",
       " 'getOIData',\n",
       " 'getProfile',\n",
       " 'getTranStatus',\n",
       " 'getUserId',\n",
       " 'getfeedToken',\n",
       " 'gttCancelRule',\n",
       " 'gttCreateRule',\n",
       " 'gttDetails',\n",
       " 'gttLists',\n",
       " 'gttModifyRule',\n",
       " 'holding',\n",
       " 'hostname',\n",
       " 'individual_order_details',\n",
       " 'login_url',\n",
       " 'ltpData',\n",
       " 'make_authenticated_get_request',\n",
       " 'modifyOrder',\n",
       " 'nseIntraday',\n",
       " 'oIBuildup',\n",
       " 'optionGreek',\n",
       " 'orderBook',\n",
       " 'placeOrder',\n",
       " 'placeOrderFullResponse',\n",
       " 'position',\n",
       " 'privateKey',\n",
       " 'proxies',\n",
       " 'putCallRatio',\n",
       " 'refresh_token',\n",
       " 'renewAccessToken',\n",
       " 'reqsession',\n",
       " 'requestHeaders',\n",
       " 'rmsLimit',\n",
       " 'root',\n",
       " 'searchScrip',\n",
       " 'session_expiry_hook',\n",
       " 'setAccessToken',\n",
       " 'setFeedToken',\n",
       " 'setRefreshToken',\n",
       " 'setSessionExpiryHook',\n",
       " 'setUserId',\n",
       " 'sourceID',\n",
       " 'ssl_context',\n",
       " 'terminateSession',\n",
       " 'timeout',\n",
       " 'tradeBook',\n",
       " 'userId',\n",
       " 'userType',\n",
       " 'verifyDis']"
      ]
     },
     "execution_count": 3,
     "metadata": {},
     "output_type": "execute_result"
    }
   ],
   "source": [
    "dir(raja_.smart_api_obj)"
   ]
  },
  {
   "cell_type": "code",
   "execution_count": 4,
   "id": "2a367418",
   "metadata": {},
   "outputs": [
    {
     "data": {
      "text/plain": [
       "['__class__',\n",
       " '__delattr__',\n",
       " '__dict__',\n",
       " '__dir__',\n",
       " '__doc__',\n",
       " '__eq__',\n",
       " '__format__',\n",
       " '__ge__',\n",
       " '__getattribute__',\n",
       " '__gt__',\n",
       " '__hash__',\n",
       " '__init__',\n",
       " '__init_subclass__',\n",
       " '__le__',\n",
       " '__lt__',\n",
       " '__module__',\n",
       " '__ne__',\n",
       " '__new__',\n",
       " '__reduce__',\n",
       " '__reduce_ex__',\n",
       " '__repr__',\n",
       " '__setattr__',\n",
       " '__sizeof__',\n",
       " '__str__',\n",
       " '__subclasshook__',\n",
       " '__weakref__',\n",
       " 'api_key',\n",
       " 'email',\n",
       " 'get_historical_data_',\n",
       " 'get_latest_5min_candle',\n",
       " 'historical_dict',\n",
       " 'name',\n",
       " 'place_order',\n",
       " 'pwd',\n",
       " 'smart_api_obj',\n",
       " 'token',\n",
       " 'username']"
      ]
     },
     "execution_count": 4,
     "metadata": {},
     "output_type": "execute_result"
    }
   ],
   "source": [
    "dir(raja_)"
   ]
  },
  {
   "cell_type": "code",
   "execution_count": 5,
   "id": "a836c25b",
   "metadata": {},
   "outputs": [
    {
     "name": "stdout",
     "output_type": "stream",
     "text": [
      "Fetching data for 3045 from 2025-06-16 14:35 to 2025-06-16 14:40\n",
      "✅ Historical data saved to 3045.csv\n"
     ]
    },
    {
     "ename": "KeyError",
     "evalue": "0",
     "output_type": "error",
     "traceback": [
      "\u001b[1;31m---------------------------------------------------------------------------\u001b[0m",
      "\u001b[1;31mKeyError\u001b[0m                                  Traceback (most recent call last)",
      "File \u001b[1;32md:\\POC\\smartAPI\\setc-order-app\\.venv\\lib\\site-packages\\pandas\\core\\indexes\\base.py:3805\u001b[0m, in \u001b[0;36mIndex.get_loc\u001b[1;34m(self, key)\u001b[0m\n\u001b[0;32m   3804\u001b[0m \u001b[38;5;28;01mtry\u001b[39;00m:\n\u001b[1;32m-> 3805\u001b[0m     \u001b[38;5;28;01mreturn\u001b[39;00m \u001b[38;5;28;43mself\u001b[39;49m\u001b[38;5;241;43m.\u001b[39;49m\u001b[43m_engine\u001b[49m\u001b[38;5;241;43m.\u001b[39;49m\u001b[43mget_loc\u001b[49m\u001b[43m(\u001b[49m\u001b[43mcasted_key\u001b[49m\u001b[43m)\u001b[49m\n\u001b[0;32m   3806\u001b[0m \u001b[38;5;28;01mexcept\u001b[39;00m \u001b[38;5;167;01mKeyError\u001b[39;00m \u001b[38;5;28;01mas\u001b[39;00m err:\n",
      "File \u001b[1;32mindex.pyx:167\u001b[0m, in \u001b[0;36mpandas._libs.index.IndexEngine.get_loc\u001b[1;34m()\u001b[0m\n",
      "File \u001b[1;32mindex.pyx:196\u001b[0m, in \u001b[0;36mpandas._libs.index.IndexEngine.get_loc\u001b[1;34m()\u001b[0m\n",
      "File \u001b[1;32mpandas\\\\_libs\\\\hashtable_class_helper.pxi:7081\u001b[0m, in \u001b[0;36mpandas._libs.hashtable.PyObjectHashTable.get_item\u001b[1;34m()\u001b[0m\n",
      "File \u001b[1;32mpandas\\\\_libs\\\\hashtable_class_helper.pxi:7089\u001b[0m, in \u001b[0;36mpandas._libs.hashtable.PyObjectHashTable.get_item\u001b[1;34m()\u001b[0m\n",
      "\u001b[1;31mKeyError\u001b[0m: 0",
      "\nThe above exception was the direct cause of the following exception:\n",
      "\u001b[1;31mKeyError\u001b[0m                                  Traceback (most recent call last)",
      "Cell \u001b[1;32mIn[5], line 1\u001b[0m\n\u001b[1;32m----> 1\u001b[0m data\u001b[38;5;241m=\u001b[39m\u001b[43mraja_\u001b[49m\u001b[38;5;241;43m.\u001b[39;49m\u001b[43mget_latest_5min_candle\u001b[49m\u001b[43m(\u001b[49m\u001b[43msymboltoken\u001b[49m\u001b[38;5;241;43m=\u001b[39;49m\u001b[38;5;124;43m'\u001b[39;49m\u001b[38;5;124;43m3045\u001b[39;49m\u001b[38;5;124;43m'\u001b[39;49m\u001b[43m)\u001b[49m\n",
      "File \u001b[1;32md:\\POC\\smartAPI\\setc-order-app\\creds.py:135\u001b[0m, in \u001b[0;36mSmartAPIUserCredentialsClass.get_latest_5min_candle\u001b[1;34m(self, symboltoken, exchange)\u001b[0m\n\u001b[0;32m    131\u001b[0m     \u001b[38;5;28;01mreturn\u001b[39;00m {}\n\u001b[0;32m    134\u001b[0m latest_candle \u001b[38;5;241m=\u001b[39m df[df[\u001b[38;5;124m'\u001b[39m\u001b[38;5;124mtimestamp\u001b[39m\u001b[38;5;124m'\u001b[39m] \u001b[38;5;241m==\u001b[39m from_date]\n\u001b[1;32m--> 135\u001b[0m row\u001b[38;5;241m=\u001b[39m\u001b[43mlatest_candle\u001b[49m\u001b[43m[\u001b[49m\u001b[38;5;241;43m0\u001b[39;49m\u001b[43m]\u001b[49m\n\u001b[0;32m    136\u001b[0m \u001b[38;5;28;01mif\u001b[39;00m row\u001b[38;5;241m.\u001b[39mempty:\n\u001b[0;32m    137\u001b[0m     \u001b[38;5;66;03m# print(f\"No candle found for {candle_start_time}\")\u001b[39;00m\n\u001b[0;32m    138\u001b[0m     \u001b[38;5;28;01mreturn\u001b[39;00m \u001b[38;5;28;01mNone\u001b[39;00m\n",
      "File \u001b[1;32md:\\POC\\smartAPI\\setc-order-app\\.venv\\lib\\site-packages\\pandas\\core\\frame.py:4102\u001b[0m, in \u001b[0;36mDataFrame.__getitem__\u001b[1;34m(self, key)\u001b[0m\n\u001b[0;32m   4100\u001b[0m \u001b[38;5;28;01mif\u001b[39;00m \u001b[38;5;28mself\u001b[39m\u001b[38;5;241m.\u001b[39mcolumns\u001b[38;5;241m.\u001b[39mnlevels \u001b[38;5;241m>\u001b[39m \u001b[38;5;241m1\u001b[39m:\n\u001b[0;32m   4101\u001b[0m     \u001b[38;5;28;01mreturn\u001b[39;00m \u001b[38;5;28mself\u001b[39m\u001b[38;5;241m.\u001b[39m_getitem_multilevel(key)\n\u001b[1;32m-> 4102\u001b[0m indexer \u001b[38;5;241m=\u001b[39m \u001b[38;5;28;43mself\u001b[39;49m\u001b[38;5;241;43m.\u001b[39;49m\u001b[43mcolumns\u001b[49m\u001b[38;5;241;43m.\u001b[39;49m\u001b[43mget_loc\u001b[49m\u001b[43m(\u001b[49m\u001b[43mkey\u001b[49m\u001b[43m)\u001b[49m\n\u001b[0;32m   4103\u001b[0m \u001b[38;5;28;01mif\u001b[39;00m is_integer(indexer):\n\u001b[0;32m   4104\u001b[0m     indexer \u001b[38;5;241m=\u001b[39m [indexer]\n",
      "File \u001b[1;32md:\\POC\\smartAPI\\setc-order-app\\.venv\\lib\\site-packages\\pandas\\core\\indexes\\base.py:3812\u001b[0m, in \u001b[0;36mIndex.get_loc\u001b[1;34m(self, key)\u001b[0m\n\u001b[0;32m   3807\u001b[0m     \u001b[38;5;28;01mif\u001b[39;00m \u001b[38;5;28misinstance\u001b[39m(casted_key, \u001b[38;5;28mslice\u001b[39m) \u001b[38;5;129;01mor\u001b[39;00m (\n\u001b[0;32m   3808\u001b[0m         \u001b[38;5;28misinstance\u001b[39m(casted_key, abc\u001b[38;5;241m.\u001b[39mIterable)\n\u001b[0;32m   3809\u001b[0m         \u001b[38;5;129;01mand\u001b[39;00m \u001b[38;5;28many\u001b[39m(\u001b[38;5;28misinstance\u001b[39m(x, \u001b[38;5;28mslice\u001b[39m) \u001b[38;5;28;01mfor\u001b[39;00m x \u001b[38;5;129;01min\u001b[39;00m casted_key)\n\u001b[0;32m   3810\u001b[0m     ):\n\u001b[0;32m   3811\u001b[0m         \u001b[38;5;28;01mraise\u001b[39;00m InvalidIndexError(key)\n\u001b[1;32m-> 3812\u001b[0m     \u001b[38;5;28;01mraise\u001b[39;00m \u001b[38;5;167;01mKeyError\u001b[39;00m(key) \u001b[38;5;28;01mfrom\u001b[39;00m\u001b[38;5;250m \u001b[39m\u001b[38;5;21;01merr\u001b[39;00m\n\u001b[0;32m   3813\u001b[0m \u001b[38;5;28;01mexcept\u001b[39;00m \u001b[38;5;167;01mTypeError\u001b[39;00m:\n\u001b[0;32m   3814\u001b[0m     \u001b[38;5;66;03m# If we have a listlike key, _check_indexing_error will raise\u001b[39;00m\n\u001b[0;32m   3815\u001b[0m     \u001b[38;5;66;03m#  InvalidIndexError. Otherwise we fall through and re-raise\u001b[39;00m\n\u001b[0;32m   3816\u001b[0m     \u001b[38;5;66;03m#  the TypeError.\u001b[39;00m\n\u001b[0;32m   3817\u001b[0m     \u001b[38;5;28mself\u001b[39m\u001b[38;5;241m.\u001b[39m_check_indexing_error(key)\n",
      "\u001b[1;31mKeyError\u001b[0m: 0"
     ]
    }
   ],
   "source": [
    "data=raja_.get_latest_5min_candle(symboltoken='3045')"
   ]
  },
  {
   "cell_type": "code",
   "execution_count": 5,
   "id": "87787b65",
   "metadata": {},
   "outputs": [],
   "source": [
    "param={\n",
    "        \"variety\": \"NORMAL\",\n",
    "        \"tradingsymbol\": 'BHARATFORG-EQ',\n",
    "        \"symboltoken\": '422',\n",
    "        \"transactiontype\": \"BUY\",\n",
    "        \"exchange\": \"NSE\",\n",
    "        \"ordertype\": \"MARKET\",\n",
    "        \"producttype\": \"INTRADAY\",\n",
    "        \"duration\": \"DAY\",\n",
    "        \"price\": \"0\",\n",
    "        \"squareoff\": \"0\",\n",
    "        \"stoploss\": \"0\",\n",
    "        \"quantity\": \"1\"\n",
    "    }"
   ]
  },
  {
   "cell_type": "code",
   "execution_count": 6,
   "id": "595af50a",
   "metadata": {},
   "outputs": [
    {
     "name": "stderr",
     "output_type": "stream",
     "text": [
      "[E 250618 21:54:08 smartConnect:246] Error occurred while making a POST request to https://apiconnect.angelone.in/rest/secure/angelbroking/order/v1/placeOrder. Error: The order cannot be processed as the token is categorised under cautionary listings by the exchange.. URL: https://apiconnect.angelone.in/rest/secure/angelbroking/order/v1/placeOrder, Headers: {'Content-type': 'application/json', 'X-ClientLocalIP': '127.0.0.1', 'X-ClientPublicIP': '106.193.147.98', 'X-MACAddress': '34:48:ed:2f:0a:07', 'Accept': 'application/json', 'X-PrivateKey': 'R77xVFTM', 'X-UserType': 'USER', 'X-SourceID': 'WEB'}, Request: {'variety': 'NORMAL', 'tradingsymbol': 'BHARATFORG-EQ', 'symboltoken': '422', 'transactiontype': 'BUY', 'exchange': 'NSE', 'ordertype': 'MARKET', 'producttype': 'INTRADAY', 'duration': 'DAY', 'price': '0', 'squareoff': '0', 'stoploss': '0', 'quantity': '1'}, Response: {'message': 'The order cannot be processed as the token is categorised under cautionary listings by the exchange.', 'errorcode': 'AB4036', 'status': False, 'data': None}\n",
      "[E 250618 21:54:08 smartConnect:339] API request failed: {'message': 'The order cannot be processed as the token is categorised under cautionary listings by the exchange.', 'errorcode': 'AB4036', 'status': False, 'data': None}\n"
     ]
    }
   ],
   "source": [
    "raja_.place_order(order_params=param)"
   ]
  },
  {
   "cell_type": "code",
   "execution_count": 25,
   "id": "191054c2",
   "metadata": {},
   "outputs": [
    {
     "name": "stdout",
     "output_type": "stream",
     "text": [
      "{'host': '13.126.121.12', 'port': '5432', 'dbname': 'setc', 'user': 'setc', 'password': 'admin%40123'}\n"
     ]
    },
    {
     "ename": "OperationalError",
     "evalue": "connection to server at \"13.126.121.12\", port 5432 failed: FATAL:  password authentication failed for user \"setc\"\nconnection to server at \"13.126.121.12\", port 5432 failed: FATAL:  password authentication failed for user \"setc\"\n",
     "output_type": "error",
     "traceback": [
      "\u001b[1;31m---------------------------------------------------------------------------\u001b[0m",
      "\u001b[1;31mOperationalError\u001b[0m                          Traceback (most recent call last)",
      "Cell \u001b[1;32mIn[25], line 24\u001b[0m\n\u001b[0;32m     21\u001b[0m \u001b[38;5;66;03m# Connect to PostgreSQL\u001b[39;00m\n\u001b[0;32m     22\u001b[0m \u001b[38;5;28mprint\u001b[39m(db_config)\n\u001b[1;32m---> 24\u001b[0m conn \u001b[38;5;241m=\u001b[39m psycopg2\u001b[38;5;241m.\u001b[39mconnect(\u001b[38;5;241m*\u001b[39m\u001b[38;5;241m*\u001b[39mdb_config)\n\u001b[0;32m     25\u001b[0m cur \u001b[38;5;241m=\u001b[39m conn\u001b[38;5;241m.\u001b[39mcursor()\n\u001b[0;32m     27\u001b[0m \u001b[38;5;66;03m# Update symbol column based on token\u001b[39;00m\n",
      "File \u001b[1;32md:\\POC\\smartAPI\\setc-order-app\\.venv\\lib\\site-packages\\psycopg2\\__init__.py:122\u001b[0m, in \u001b[0;36mconnect\u001b[1;34m(dsn, connection_factory, cursor_factory, **kwargs)\u001b[0m\n\u001b[0;32m    119\u001b[0m     kwasync[\u001b[38;5;124m'\u001b[39m\u001b[38;5;124masync_\u001b[39m\u001b[38;5;124m'\u001b[39m] \u001b[38;5;241m=\u001b[39m kwargs\u001b[38;5;241m.\u001b[39mpop(\u001b[38;5;124m'\u001b[39m\u001b[38;5;124masync_\u001b[39m\u001b[38;5;124m'\u001b[39m)\n\u001b[0;32m    121\u001b[0m dsn \u001b[38;5;241m=\u001b[39m _ext\u001b[38;5;241m.\u001b[39mmake_dsn(dsn, \u001b[38;5;241m*\u001b[39m\u001b[38;5;241m*\u001b[39mkwargs)\n\u001b[1;32m--> 122\u001b[0m conn \u001b[38;5;241m=\u001b[39m _connect(dsn, connection_factory\u001b[38;5;241m=\u001b[39mconnection_factory, \u001b[38;5;241m*\u001b[39m\u001b[38;5;241m*\u001b[39mkwasync)\n\u001b[0;32m    123\u001b[0m \u001b[38;5;28;01mif\u001b[39;00m cursor_factory \u001b[38;5;129;01mis\u001b[39;00m \u001b[38;5;129;01mnot\u001b[39;00m \u001b[38;5;28;01mNone\u001b[39;00m:\n\u001b[0;32m    124\u001b[0m     conn\u001b[38;5;241m.\u001b[39mcursor_factory \u001b[38;5;241m=\u001b[39m cursor_factory\n",
      "\u001b[1;31mOperationalError\u001b[0m: connection to server at \"13.126.121.12\", port 5432 failed: FATAL:  password authentication failed for user \"setc\"\nconnection to server at \"13.126.121.12\", port 5432 failed: FATAL:  password authentication failed for user \"setc\"\n"
     ]
    }
   ],
   "source": [
    "import pandas as pd\n",
    "import psycopg2\n",
    "from dotenv import load_dotenv\n",
    "import os\n",
    "\n",
    "# Load environment variables from .env file\n",
    "load_dotenv()\n",
    "\n",
    "# Read DB config from environment\n",
    "db_config = {\n",
    "    \"host\": os.getenv(\"POSTGRES_HOST\"),\n",
    "    \"port\": os.getenv(\"POSTGRES_PORT\"),\n",
    "    \"dbname\": os.getenv(\"POSTGRES_DB\"),\n",
    "    \"user\": os.getenv(\"POSTGRES_USER\"),\n",
    "    \"password\": os.getenv(\"POSTGRES_PASSWORD\")\n",
    "}\n",
    "\n",
    "# Load CSV file\n",
    "df = pd.read_csv(r'D:\\nse.csv')  # Assumes columns: token,symbol\n",
    "\n",
    "# Connect to PostgreSQL\n",
    "print(db_config)\n",
    "\n",
    "conn = psycopg2.connect(**db_config)\n",
    "cur = conn.cursor()\n",
    "\n",
    "# Update symbol column based on token\n",
    "for index, row in df.iterrows():\n",
    "    token = str(row['Token Code']).strip()\n",
    "    symbol = str(row['Name']).strip()\n",
    "\n",
    "    cur.execute(\"\"\"\n",
    "        UPDATE stock_details\n",
    "        SET symbol = %s\n",
    "        WHERE token = %s;\n",
    "    \"\"\", (symbol, token))\n",
    "\n",
    "# Finalize\n",
    "conn.commit()\n",
    "cur.close()\n",
    "conn.close()\n",
    "\n",
    "print(\"Symbols updated successfully.\")\n"
   ]
  }
 ],
 "metadata": {
  "kernelspec": {
   "display_name": ".venv",
   "language": "python",
   "name": "python3"
  },
  "language_info": {
   "codemirror_mode": {
    "name": "ipython",
    "version": 3
   },
   "file_extension": ".py",
   "mimetype": "text/x-python",
   "name": "python",
   "nbconvert_exporter": "python",
   "pygments_lexer": "ipython3",
   "version": "3.10.0"
  }
 },
 "nbformat": 4,
 "nbformat_minor": 5
}
