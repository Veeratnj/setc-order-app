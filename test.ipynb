{
 "cells": [
  {
   "cell_type": "code",
   "execution_count": 29,
   "id": "0f1dbb0e",
   "metadata": {},
   "outputs": [],
   "source": [
    "import collections\n",
    "import json\n",
    "from services import get_auth,get_historical_data"
   ]
  },
  {
   "cell_type": "code",
   "execution_count": 30,
   "id": "75b544d9",
   "metadata": {},
   "outputs": [],
   "source": [
    "def load_credentials():\n",
    "    # Load credentials from a JSON file\n",
    "    with open('creds.json', 'r') as file:\n",
    "        creds = json.load(file)\n",
    "    return creds\n",
    "\n",
    "user_creds=load_credentials()"
   ]
  },
  {
   "cell_type": "code",
   "execution_count": 31,
   "id": "5e3beb6d",
   "metadata": {},
   "outputs": [],
   "source": [
    "class SmartAPIUserCredentials:\n",
    "    def __init__(self, user_dict):\n",
    "        self.api_key = user_dict[\"creds\"][\"api_key\"]\n",
    "        self.username = user_dict[\"creds\"][\"username\"]\n",
    "        self.pwd = user_dict[\"creds\"][\"pwd\"]\n",
    "        self.token = user_dict[\"creds\"][\"token\"]\n",
    "        self.email = user_dict[\"creds\"][\"email\"]\n",
    "        self.name = user_dict[\"creds\"][\"name\"]\n",
    "        self.smart_api_obj = get_auth(self.api_key, self.username, self.pwd, self.token)\n",
    "        self.historical_dict = collections.defaultdict(dict)\n",
    "\n",
    "    def get_historical_data(self,symboltoken=\"\",exchange=\"\",from_date=\"2025-05-01 08:11\", to_date=\"2025-05-15 08:11\", interval=\"day\"):\n",
    "        \n",
    "        df=get_historical_data(\n",
    "            smart_api_obj=self.smart_api_obj,\n",
    "                exchange=exchange,\n",
    "                symboltoken=symboltoken,\n",
    "                interval=\"FIVE_MINUTE\",\n",
    "                # fromdate='2025-05-15 08:11',\n",
    "                fromdate=from_date,\n",
    "                # todate='2025-05-26 08:11'\n",
    "                todate=to_date\n",
    "        )\n",
    "        self.historical_dict[symboltoken] = df\n",
    "        # print(f\"Historical data for {symboltoken} from {from_date} to {to_date} fetched successfully.\")\n",
    "\n",
    "\n",
    "    def __str__(self):\n",
    "        return f\"UserCredentials(api_key={self.api_key}, username={self.username}, pwd={self.pwd}, token={self.token},\"\n"
   ]
  },
  {
   "cell_type": "code",
   "execution_count": 32,
   "id": "44b6f023",
   "metadata": {},
   "outputs": [
    {
     "name": "stderr",
     "output_type": "stream",
     "text": [
      "[I 250614 15:16:12 smartConnect:124] in pool\n"
     ]
    }
   ],
   "source": [
    "raja_=SmartAPIUserCredentials(user_creds[\"2\"])"
   ]
  },
  {
   "cell_type": "code",
   "execution_count": 33,
   "id": "865f0712",
   "metadata": {},
   "outputs": [
    {
     "data": {
      "text/plain": [
       "<SmartApi.smartConnect.SmartConnect at 0x2559d5b7b50>"
      ]
     },
     "execution_count": 33,
     "metadata": {},
     "output_type": "execute_result"
    }
   ],
   "source": [
    "raja_.smart_api_obj"
   ]
  },
  {
   "cell_type": "code",
   "execution_count": 34,
   "id": "b55c805c",
   "metadata": {},
   "outputs": [],
   "source": [
    "from datetime import datetime, timedelta\n",
    "\n",
    "today = datetime.now()\n",
    "fromdate = (today - timedelta(days=10)).strftime(\"%Y-%m-%d %H:%M\")\n",
    "todate = today.strftime(\"%Y-%m-%d %H:%M\")"
   ]
  },
  {
   "cell_type": "code",
   "execution_count": 35,
   "id": "afb0203a",
   "metadata": {},
   "outputs": [
    {
     "name": "stdout",
     "output_type": "stream",
     "text": [
      "Historical data saved to 3045.csv\n"
     ]
    }
   ],
   "source": [
    "raja_.get_historical_data(\n",
    "    exchange=\"NSE\",\n",
    "    symboltoken=\"3045\",\n",
    "    interval=\"FIVE_MINUTE\",\n",
    "    from_date=fromdate,\n",
    "    to_date=todate  \n",
    ")"
   ]
  },
  {
   "cell_type": "code",
   "execution_count": 36,
   "id": "35efee0c",
   "metadata": {},
   "outputs": [
    {
     "data": {
      "text/html": [
       "<div>\n",
       "<style scoped>\n",
       "    .dataframe tbody tr th:only-of-type {\n",
       "        vertical-align: middle;\n",
       "    }\n",
       "\n",
       "    .dataframe tbody tr th {\n",
       "        vertical-align: top;\n",
       "    }\n",
       "\n",
       "    .dataframe thead th {\n",
       "        text-align: right;\n",
       "    }\n",
       "</style>\n",
       "<table border=\"1\" class=\"dataframe\">\n",
       "  <thead>\n",
       "    <tr style=\"text-align: right;\">\n",
       "      <th></th>\n",
       "      <th>timestamp</th>\n",
       "      <th>open</th>\n",
       "      <th>high</th>\n",
       "      <th>low</th>\n",
       "      <th>close</th>\n",
       "      <th>volume</th>\n",
       "    </tr>\n",
       "  </thead>\n",
       "  <tbody>\n",
       "    <tr>\n",
       "      <th>0</th>\n",
       "      <td>2025-06-04 15:20:00+05:30</td>\n",
       "      <td>806.0</td>\n",
       "      <td>806.10</td>\n",
       "      <td>805.65</td>\n",
       "      <td>806.1</td>\n",
       "      <td>398646</td>\n",
       "    </tr>\n",
       "    <tr>\n",
       "      <th>1</th>\n",
       "      <td>2025-06-04 15:25:00+05:30</td>\n",
       "      <td>806.1</td>\n",
       "      <td>806.35</td>\n",
       "      <td>805.25</td>\n",
       "      <td>805.5</td>\n",
       "      <td>372126</td>\n",
       "    </tr>\n",
       "    <tr>\n",
       "      <th>2</th>\n",
       "      <td>2025-06-05 09:15:00+05:30</td>\n",
       "      <td>808.5</td>\n",
       "      <td>808.70</td>\n",
       "      <td>805.85</td>\n",
       "      <td>806.0</td>\n",
       "      <td>274510</td>\n",
       "    </tr>\n",
       "    <tr>\n",
       "      <th>3</th>\n",
       "      <td>2025-06-05 09:20:00+05:30</td>\n",
       "      <td>806.0</td>\n",
       "      <td>807.00</td>\n",
       "      <td>805.10</td>\n",
       "      <td>807.0</td>\n",
       "      <td>145190</td>\n",
       "    </tr>\n",
       "    <tr>\n",
       "      <th>4</th>\n",
       "      <td>2025-06-05 09:25:00+05:30</td>\n",
       "      <td>807.0</td>\n",
       "      <td>808.00</td>\n",
       "      <td>806.55</td>\n",
       "      <td>807.3</td>\n",
       "      <td>117799</td>\n",
       "    </tr>\n",
       "  </tbody>\n",
       "</table>\n",
       "</div>"
      ],
      "text/plain": [
       "                  timestamp   open    high     low  close  volume\n",
       "0 2025-06-04 15:20:00+05:30  806.0  806.10  805.65  806.1  398646\n",
       "1 2025-06-04 15:25:00+05:30  806.1  806.35  805.25  805.5  372126\n",
       "2 2025-06-05 09:15:00+05:30  808.5  808.70  805.85  806.0  274510\n",
       "3 2025-06-05 09:20:00+05:30  806.0  807.00  805.10  807.0  145190\n",
       "4 2025-06-05 09:25:00+05:30  807.0  808.00  806.55  807.3  117799"
      ]
     },
     "execution_count": 36,
     "metadata": {},
     "output_type": "execute_result"
    }
   ],
   "source": [
    "raja_.historical_dict['3045'].head()"
   ]
  },
  {
   "cell_type": "code",
   "execution_count": 37,
   "id": "7cdf5ebf",
   "metadata": {},
   "outputs": [
    {
     "data": {
      "text/plain": [
       "50"
      ]
     },
     "execution_count": 37,
     "metadata": {},
     "output_type": "execute_result"
    }
   ],
   "source": [
    "token_list = [\n",
    "    '3045', '15058', '5204', '2792', '10', '10738', '25578', '24814', '1726',\n",
    "    '5097', '1196', '14299', '341', '17869', '14947', '20293', '4204', '20302',\n",
    "    '2664', '2049', '18652', '1041', '17927', '10999', '99926000', '2783',\n",
    "    '99926009', '99926037', '3045', '676', '5751', '2303', '13491', '916',\n",
    "    '21770', '14450', '438', '526', '19234', '2029', '20825', '14788',\n",
    "    '13260', '2854', '21808', '5911', '342', '8075','15174',\n",
    "    '13786'\n",
    "]\n",
    "\n",
    "len(token_list)"
   ]
  },
  {
   "cell_type": "code",
   "execution_count": 38,
   "id": "d1df0e11",
   "metadata": {},
   "outputs": [
    {
     "name": "stdout",
     "output_type": "stream",
     "text": [
      "Duplicate token found: 3045\n"
     ]
    }
   ],
   "source": [
    "temp=[]\n",
    "for i in token_list:\n",
    "    if i in temp:\n",
    "        print(f\"Duplicate token found: {i}\")\n",
    "    temp.append(i)"
   ]
  },
  {
   "cell_type": "code",
   "execution_count": 41,
   "id": "e859f228",
   "metadata": {},
   "outputs": [
    {
     "name": "stdout",
     "output_type": "stream",
     "text": [
      "2025-06-14 15:20:35.345440\n",
      "Historical data saved to 3045.csv\n",
      "Historical data saved to 15058.csv\n",
      "Historical data saved to 5204.csv\n",
      "Historical data saved to 2792.csv\n",
      "Historical data saved to 10.csv\n",
      "Historical data saved to 10738.csv\n",
      "Historical data saved to 25578.csv\n",
      "Historical data saved to 24814.csv\n",
      "Historical data saved to 1726.csv\n",
      "Historical data saved to 5097.csv\n",
      "Historical data saved to 1196.csv\n",
      "Historical data saved to 14299.csv\n",
      "Historical data saved to 341.csv\n",
      "Historical data saved to 17869.csv\n",
      "Historical data saved to 14947.csv\n",
      "Historical data saved to 20293.csv\n",
      "Historical data saved to 4204.csv\n",
      "Historical data saved to 20302.csv\n",
      "Historical data saved to 2664.csv\n",
      "Historical data saved to 2049.csv\n",
      "Historical data saved to 18652.csv\n",
      "Historical data saved to 1041.csv\n",
      "Historical data saved to 17927.csv\n",
      "Historical data saved to 10999.csv\n",
      "Historical data saved to 99926000.csv\n",
      "Historical data saved to 2783.csv\n",
      "Historical data saved to 99926009.csv\n",
      "Historical data saved to 99926037.csv\n",
      "Historical data saved to 3045.csv\n",
      "Historical data saved to 676.csv\n",
      "Historical data saved to 5751.csv\n",
      "Historical data saved to 2303.csv\n",
      "Historical data saved to 13491.csv\n",
      "Historical data saved to 916.csv\n",
      "Historical data saved to 21770.csv\n",
      "Historical data saved to 14450.csv\n",
      "Historical data saved to 438.csv\n",
      "Historical data saved to 526.csv\n",
      "Historical data saved to 19234.csv\n",
      "Historical data saved to 2029.csv\n",
      "Historical data saved to 20825.csv\n",
      "Historical data saved to 14788.csv\n",
      "Historical data saved to 13260.csv\n",
      "Historical data saved to 2854.csv\n",
      "Historical data saved to 21808.csv\n",
      "Historical data saved to 5911.csv\n",
      "Historical data saved to 342.csv\n",
      "Historical data saved to 8075.csv\n",
      "Historical data saved to 15174.csv\n",
      "Historical data saved to 13786.csv\n",
      "2025-06-14 15:21:57.221025\n"
     ]
    }
   ],
   "source": [
    "import time\n",
    "\n",
    "print(datetime.now())\n",
    "for i in token_list:\n",
    "    time.sleep(1.5)\n",
    "    raja_.get_historical_data(\n",
    "        exchange=\"NSE\",\n",
    "        symboltoken=i,\n",
    "        interval=\"FIVE_MINUTE\",\n",
    "        from_date=fromdate,\n",
    "        to_date=todate  \n",
    "    )\n",
    "print(datetime.now())\n"
   ]
  },
  {
   "cell_type": "code",
   "execution_count": null,
   "id": "9d05d8ab",
   "metadata": {},
   "outputs": [],
   "source": [
    "raja_.historical_dict"
   ]
  },
  {
   "cell_type": "code",
   "execution_count": null,
   "id": "ef21aef9",
   "metadata": {},
   "outputs": [],
   "source": [
    "for i in list(raja_.historical_dict.keys()):\n",
    "    if raja_.historical_dict[i] is not None:\n",
    "        print(f\"❌ No data for token {i}\")\n",
    "        continue\n",
    "    raja_.historical_dict[i].to_csv(f\"data_{i}.csv\", index=False)\n"
   ]
  }
 ],
 "metadata": {
  "kernelspec": {
   "display_name": ".venv",
   "language": "python",
   "name": "python3"
  },
  "language_info": {
   "codemirror_mode": {
    "name": "ipython",
    "version": 3
   },
   "file_extension": ".py",
   "mimetype": "text/x-python",
   "name": "python",
   "nbconvert_exporter": "python",
   "pygments_lexer": "ipython3",
   "version": "3.10.0"
  }
 },
 "nbformat": 4,
 "nbformat_minor": 5
}
